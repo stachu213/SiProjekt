{
 "cells": [
  {
   "metadata": {
    "ExecuteTime": {
     "end_time": "2025-01-22T23:34:46.948334Z",
     "start_time": "2025-01-22T23:34:46.944164Z"
    }
   },
   "cell_type": "code",
   "source": "import pandas as pd",
   "id": "d9c0409ae17bdb93",
   "outputs": [],
   "execution_count": 18
  },
  {
   "metadata": {
    "ExecuteTime": {
     "end_time": "2025-01-22T23:34:47.366399Z",
     "start_time": "2025-01-22T23:34:47.006065Z"
    }
   },
   "cell_type": "code",
   "source": "tenis_df = pd.read_csv(\"dane/gotowe_dane.csv\", sep=';')",
   "id": "e97e241dcb213dbe",
   "outputs": [],
   "execution_count": 19
  },
  {
   "metadata": {
    "ExecuteTime": {
     "end_time": "2025-01-22T23:34:47.385670Z",
     "start_time": "2025-01-22T23:34:47.370410Z"
    }
   },
   "cell_type": "code",
   "source": [
    "X = tenis_df.drop(columns=['label'])\n",
    "y = tenis_df['label']"
   ],
   "id": "fcfce9039db4f63d",
   "outputs": [],
   "execution_count": 20
  },
  {
   "metadata": {
    "ExecuteTime": {
     "end_time": "2025-01-22T23:34:47.439480Z",
     "start_time": "2025-01-22T23:34:47.411275Z"
    }
   },
   "cell_type": "code",
   "source": [
    "from sklearn.model_selection import train_test_split\n",
    "\n",
    "X_train, X_test, y_train, y_test = train_test_split(X, y, test_size=0.3, random_state=42)"
   ],
   "id": "d825c6548fee4e0d",
   "outputs": [],
   "execution_count": 21
  },
  {
   "metadata": {
    "ExecuteTime": {
     "end_time": "2025-01-22T23:34:50.727155Z",
     "start_time": "2025-01-22T23:34:47.463654Z"
    }
   },
   "cell_type": "code",
   "source": [
    "# Import potrzebnych bibliotek\n",
    "from sklearn.linear_model import LogisticRegression\n",
    "from sklearn.metrics import accuracy_score\n",
    "\n",
    "# Inicjalizacja modelu\n",
    "model = LogisticRegression(max_iter=1000)\n",
    "\n",
    "# Trenowanie modelu na zbiorze treningowym\n",
    "model.fit(X_train, y_train)\n",
    "\n",
    "# Predykcja na danych testowych\n",
    "y_pred = model.predict(X_test)\n",
    "\n",
    "# Ocena dokładności\n",
    "accuracy = accuracy_score(y_test, y_pred)\n",
    "print(f'Dokładność modelu: {accuracy:.2f}')\n"
   ],
   "id": "7c211e6631357898",
   "outputs": [
    {
     "name": "stdout",
     "output_type": "stream",
     "text": [
      "Dokładność modelu: 0.96\n"
     ]
    },
    {
     "name": "stderr",
     "output_type": "stream",
     "text": [
      "C:\\Users\\stani\\AppData\\Local\\Packages\\PythonSoftwareFoundation.Python.3.12_qbz5n2kfra8p0\\LocalCache\\local-packages\\Python312\\site-packages\\sklearn\\linear_model\\_logistic.py:465: ConvergenceWarning: lbfgs failed to converge (status=1):\n",
      "STOP: TOTAL NO. of ITERATIONS REACHED LIMIT.\n",
      "\n",
      "Increase the number of iterations (max_iter) or scale the data as shown in:\n",
      "    https://scikit-learn.org/stable/modules/preprocessing.html\n",
      "Please also refer to the documentation for alternative solver options:\n",
      "    https://scikit-learn.org/stable/modules/linear_model.html#logistic-regression\n",
      "  n_iter_i = _check_optimize_result(\n"
     ]
    }
   ],
   "execution_count": 22
  },
  {
   "metadata": {
    "ExecuteTime": {
     "end_time": "2025-01-22T23:34:50.784271Z",
     "start_time": "2025-01-22T23:34:50.753042Z"
    }
   },
   "cell_type": "code",
   "source": [
    "# Predykcja na zbiorze treningowym\n",
    "y_train_pred = model.predict(X_train)\n",
    "train_accuracy = accuracy_score(y_train, y_train_pred)\n",
    "print(f'Dokładność na zbiorze treningowym: {train_accuracy:.2f}')\n",
    "print(f'Dokładność na zbiorze testowym: {accuracy:.2f}')"
   ],
   "id": "a63b70ad5e133d9c",
   "outputs": [
    {
     "name": "stdout",
     "output_type": "stream",
     "text": [
      "Dokładność na zbiorze treningowym: 0.96\n",
      "Dokładność na zbiorze testowym: 0.96\n"
     ]
    }
   ],
   "execution_count": 23
  },
  {
   "metadata": {
    "ExecuteTime": {
     "end_time": "2025-01-22T23:35:08.900019Z",
     "start_time": "2025-01-22T23:34:50.807623Z"
    }
   },
   "cell_type": "code",
   "source": [
    "from sklearn.model_selection import cross_val_score\n",
    "\n",
    "# Walidacja krzyżowa (np. 5-fold)\n",
    "cv_scores = cross_val_score(model, X, y, cv=5, scoring='accuracy')\n",
    "print(f'Dokładność walidacji krzyżowej: {cv_scores.mean():.2f} (± {cv_scores.std():.2f})')"
   ],
   "id": "be32ea8ab9274be8",
   "outputs": [
    {
     "name": "stderr",
     "output_type": "stream",
     "text": [
      "C:\\Users\\stani\\AppData\\Local\\Packages\\PythonSoftwareFoundation.Python.3.12_qbz5n2kfra8p0\\LocalCache\\local-packages\\Python312\\site-packages\\sklearn\\linear_model\\_logistic.py:465: ConvergenceWarning: lbfgs failed to converge (status=1):\n",
      "STOP: TOTAL NO. of ITERATIONS REACHED LIMIT.\n",
      "\n",
      "Increase the number of iterations (max_iter) or scale the data as shown in:\n",
      "    https://scikit-learn.org/stable/modules/preprocessing.html\n",
      "Please also refer to the documentation for alternative solver options:\n",
      "    https://scikit-learn.org/stable/modules/linear_model.html#logistic-regression\n",
      "  n_iter_i = _check_optimize_result(\n",
      "C:\\Users\\stani\\AppData\\Local\\Packages\\PythonSoftwareFoundation.Python.3.12_qbz5n2kfra8p0\\LocalCache\\local-packages\\Python312\\site-packages\\sklearn\\linear_model\\_logistic.py:465: ConvergenceWarning: lbfgs failed to converge (status=1):\n",
      "STOP: TOTAL NO. of ITERATIONS REACHED LIMIT.\n",
      "\n",
      "Increase the number of iterations (max_iter) or scale the data as shown in:\n",
      "    https://scikit-learn.org/stable/modules/preprocessing.html\n",
      "Please also refer to the documentation for alternative solver options:\n",
      "    https://scikit-learn.org/stable/modules/linear_model.html#logistic-regression\n",
      "  n_iter_i = _check_optimize_result(\n",
      "C:\\Users\\stani\\AppData\\Local\\Packages\\PythonSoftwareFoundation.Python.3.12_qbz5n2kfra8p0\\LocalCache\\local-packages\\Python312\\site-packages\\sklearn\\linear_model\\_logistic.py:465: ConvergenceWarning: lbfgs failed to converge (status=1):\n",
      "STOP: TOTAL NO. of ITERATIONS REACHED LIMIT.\n",
      "\n",
      "Increase the number of iterations (max_iter) or scale the data as shown in:\n",
      "    https://scikit-learn.org/stable/modules/preprocessing.html\n",
      "Please also refer to the documentation for alternative solver options:\n",
      "    https://scikit-learn.org/stable/modules/linear_model.html#logistic-regression\n",
      "  n_iter_i = _check_optimize_result(\n",
      "C:\\Users\\stani\\AppData\\Local\\Packages\\PythonSoftwareFoundation.Python.3.12_qbz5n2kfra8p0\\LocalCache\\local-packages\\Python312\\site-packages\\sklearn\\linear_model\\_logistic.py:465: ConvergenceWarning: lbfgs failed to converge (status=1):\n",
      "STOP: TOTAL NO. of ITERATIONS REACHED LIMIT.\n",
      "\n",
      "Increase the number of iterations (max_iter) or scale the data as shown in:\n",
      "    https://scikit-learn.org/stable/modules/preprocessing.html\n",
      "Please also refer to the documentation for alternative solver options:\n",
      "    https://scikit-learn.org/stable/modules/linear_model.html#logistic-regression\n",
      "  n_iter_i = _check_optimize_result(\n"
     ]
    },
    {
     "name": "stdout",
     "output_type": "stream",
     "text": [
      "Dokładność walidacji krzyżowej: 0.96 (± 0.00)\n"
     ]
    },
    {
     "name": "stderr",
     "output_type": "stream",
     "text": [
      "C:\\Users\\stani\\AppData\\Local\\Packages\\PythonSoftwareFoundation.Python.3.12_qbz5n2kfra8p0\\LocalCache\\local-packages\\Python312\\site-packages\\sklearn\\linear_model\\_logistic.py:465: ConvergenceWarning: lbfgs failed to converge (status=1):\n",
      "STOP: TOTAL NO. of ITERATIONS REACHED LIMIT.\n",
      "\n",
      "Increase the number of iterations (max_iter) or scale the data as shown in:\n",
      "    https://scikit-learn.org/stable/modules/preprocessing.html\n",
      "Please also refer to the documentation for alternative solver options:\n",
      "    https://scikit-learn.org/stable/modules/linear_model.html#logistic-regression\n",
      "  n_iter_i = _check_optimize_result(\n"
     ]
    }
   ],
   "execution_count": 24
  },
  {
   "metadata": {
    "ExecuteTime": {
     "end_time": "2025-01-22T23:35:08.943413Z",
     "start_time": "2025-01-22T23:35:08.922943Z"
    }
   },
   "cell_type": "code",
   "source": [
    "from sklearn.metrics import classification_report, confusion_matrix\n",
    "\n",
    "# Raport klasyfikacji\n",
    "print(classification_report(y_test, y_pred))\n",
    "\n",
    "# Macierz pomyłek\n",
    "print(\"Macierz pomyłek:\")\n",
    "print(confusion_matrix(y_test, y_pred))"
   ],
   "id": "d18bc2102549cc81",
   "outputs": [
    {
     "name": "stdout",
     "output_type": "stream",
     "text": [
      "              precision    recall  f1-score   support\n",
      "\n",
      "           0       0.96      0.96      0.96     11028\n",
      "           1       0.96      0.96      0.96     10931\n",
      "\n",
      "    accuracy                           0.96     21959\n",
      "   macro avg       0.96      0.96      0.96     21959\n",
      "weighted avg       0.96      0.96      0.96     21959\n",
      "\n",
      "Macierz pomyłek:\n",
      "[[10599   429]\n",
      " [  404 10527]]\n"
     ]
    }
   ],
   "execution_count": 25
  },
  {
   "metadata": {
    "ExecuteTime": {
     "end_time": "2025-01-22T23:35:09.095589Z",
     "start_time": "2025-01-22T23:35:08.969997Z"
    }
   },
   "cell_type": "code",
   "source": [
    "from sklearn.metrics import roc_curve, roc_auc_score\n",
    "import matplotlib.pyplot as plt\n",
    "\n",
    "# Predykcja prawdopodobieństw\n",
    "y_pred_proba = model.predict_proba(X_test)[:, 1]\n",
    "\n",
    "# Obliczenie krzywej ROC\n",
    "fpr, tpr, thresholds = roc_curve(y_test, y_pred_proba)\n",
    "\n",
    "# Wykres krzywej ROC\n",
    "plt.figure()\n",
    "plt.plot(fpr, tpr, label='Krzywa ROC')\n",
    "plt.plot([0, 1], [0, 1], 'k--', label='Random Guess')\n",
    "plt.xlabel('False Positive Rate')\n",
    "plt.ylabel('True Positive Rate')\n",
    "plt.title('Krzywa ROC')\n",
    "plt.legend()\n",
    "plt.show()\n",
    "\n",
    "# AUC-ROC\n",
    "auc = roc_auc_score(y_test, y_pred_proba)\n",
    "print(f'AUC-ROC: {auc:.2f}')"
   ],
   "id": "f8f73b2ac8f16d28",
   "outputs": [
    {
     "data": {
      "text/plain": [
       "<Figure size 640x480 with 1 Axes>"
      ],
      "image/png": "[encoded data removed]"
     },
     "metadata": {},
     "output_type": "display_data"
    },
    {
     "name": "stdout",
     "output_type": "stream",
     "text": [
      "AUC-ROC: 0.99\n"
     ]
    }
   ],
   "execution_count": 26
  },
  {
   "metadata": {
    "ExecuteTime": {
     "end_time": "2025-01-22T23:35:09.131110Z",
     "start_time": "2025-01-22T23:35:09.122540Z"
    }
   },
   "cell_type": "code",
   "source": "print(y.value_counts(), 'y._value_counts()')",
   "id": "1e1d1c7d463d3deb",
   "outputs": [
    {
     "name": "stdout",
     "output_type": "stream",
     "text": [
      "label\n",
      "0    36597\n",
      "1    36597\n",
      "Name: count, dtype: int64 y._value_counts()\n"
     ]
    }
   ],
   "execution_count": 27
  },
  {
   "metadata": {
    "ExecuteTime": {
     "end_time": "2025-01-22T23:35:15.480186Z",
     "start_time": "2025-01-22T23:35:09.163338Z"
    }
   },
   "cell_type": "code",
   "source": [
    "from sklearn.ensemble import RandomForestClassifier\n",
    "\n",
    "model_rf = RandomForestClassifier(random_state=42)\n",
    "model_rf.fit(X_train, y_train)\n",
    "y_pred_rf = model_rf.predict(X_test)\n",
    "print(f'Dokładność Random Forest: {accuracy_score(y_test, y_pred_rf):.2f}')"
   ],
   "id": "a4e184db6dafbe8",
   "outputs": [
    {
     "name": "stdout",
     "output_type": "stream",
     "text": [
      "Dokładność Random Forest: 1.00\n"
     ]
    }
   ],
   "execution_count": 28
  },
  {
   "metadata": {
    "ExecuteTime": {
     "end_time": "2025-01-22T23:35:41.572755Z",
     "start_time": "2025-01-22T23:35:41.254969Z"
    }
   },
   "cell_type": "code",
   "source": [
    "y_train_pred_rf = model_rf.predict(X_train)\n",
    "train_accuracy_rf = accuracy_score(y_train, y_train_pred_rf)\n",
    "print(f'Dokładność Random Forest na zbiorze treningowym: {train_accuracy_rf:.2f}')"
   ],
   "id": "2ca32f1b803e25c3",
   "outputs": [
    {
     "name": "stdout",
     "output_type": "stream",
     "text": [
      "Dokładność Random Forest na zbiorze treningowym: 1.00\n"
     ]
    }
   ],
   "execution_count": 29
  },
  {
   "metadata": {
    "ExecuteTime": {
     "end_time": "2025-01-22T23:36:28.270076Z",
     "start_time": "2025-01-22T23:35:54.165572Z"
    }
   },
   "cell_type": "code",
   "source": [
    "from sklearn.model_selection import cross_val_score\n",
    "\n",
    "cv_scores_rf = cross_val_score(model_rf, X, y, cv=5, scoring='accuracy')\n",
    "print(f'Dokładność walidacji krzyżowej (Random Forest): {cv_scores_rf.mean():.2f} (± {cv_scores_rf.std():.2f})')"
   ],
   "id": "b5f08a920bc70249",
   "outputs": [
    {
     "name": "stdout",
     "output_type": "stream",
     "text": [
      "Dokładność walidacji krzyżowej (Random Forest): 1.00 (± 0.00)\n"
     ]
    }
   ],
   "execution_count": 30
  },
  {
   "metadata": {},
   "cell_type": "code",
   "outputs": [],
   "execution_count": null,
   "source": "",
   "id": "3b61558149f7f91e"
  }
 ],
 "metadata": {
  "kernelspec": {
   "name": "python3",
   "language": "python",
   "display_name": "Python 3 (ipykernel)"
  }
 },
 "nbformat": 5,
 "nbformat_minor": 9
}
