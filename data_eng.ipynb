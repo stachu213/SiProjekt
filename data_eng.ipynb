{
 "cells": [
  {
   "metadata": {},
   "cell_type": "code",
   "outputs": [],
   "execution_count": null,
   "source": "import pandas as pd",
   "id": "3681331a870e7f89"
  },
  {
   "metadata": {},
   "cell_type": "code",
   "outputs": [],
   "execution_count": null,
   "source": "tenis_df = pd.read_csv(\"dane/Dane_ATP_2000-2024 d.csv\", sep=';')",
   "id": "2bd6f72430b1822a"
  },
  {
   "metadata": {},
   "cell_type": "code",
   "outputs": [],
   "execution_count": null,
   "source": "tenis_df.head(5)",
   "id": "c96308b703e126ba"
  },
  {
   "metadata": {},
   "cell_type": "code",
   "outputs": [],
   "execution_count": null,
   "source": [
    "# Usuwamy kolumny ktore naszym zdaniem nie sa potrzebne\n",
    "columns_to_drop = [\n",
    "    'tourney_id', 'tourney_name', 'draw_size', 'match_num', 'winner_seed',\n",
    "    'winner_name', 'loser_seed', 'winner_ioc', 'loser_name', 'loser_seed',\n",
    "    'loser_ioc', 'score', 'tourney_date'\n",
    "]\n",
    "\n",
    "tenis_df = tenis_df.drop(columns=columns_to_drop)\n",
    "tenis_df.head(5)"
   ],
   "id": "b06697b4a79b8f0a"
  },
  {
   "metadata": {},
   "cell_type": "code",
   "outputs": [],
   "execution_count": null,
   "source": [
    "# Wizualizujemy rozklad roznych powierzchni\n",
    "tenis_df = tenis_df.dropna(subset=['surface'])\n",
    "surface = tenis_df['surface'].value_counts()\n",
    "surface.plot(kind='pie', autopct='%1.1f%%', startangle=90)"
   ],
   "id": "309a151876a345b7"
  },
  {
   "metadata": {},
   "cell_type": "code",
   "outputs": [],
   "execution_count": null,
   "source": [
    "# Zamieniamy statystyki meczowe na ich rolling avereges z ostatnich 10 meczow\n",
    "def calculate_rolling_averages(df, columns_for_rolling_averages, player):\n",
    "    df = df.copy()\n",
    "\n",
    "    for col in columns_for_rolling_averages:\n",
    "        df[f'{player}_rolling_{col[2:]}'] = (\n",
    "            df.groupby(f'{player}_id')[col]\n",
    "            .transform(lambda x: x.rolling(window=10, min_periods=1).mean())\n",
    "        )\n",
    "\n",
    "    return df\n",
    "\n",
    "columns_for_rolling_averages_winner = [\n",
    "    'w_ace', 'w_df', 'w_svpt', 'w_1stIn', 'w_1stWon', 'w_2ndWon', 'w_SvGms', 'w_bpSaved', 'w_bpFaced']\n",
    "\n",
    "columns_for_rolling_averages_loser = [\n",
    "    'l_ace', 'l_df', 'l_svpt', 'l_1stIn', 'l_1stWon', 'l_2ndWon', 'l_SvGms', 'l_bpSaved', 'l_bpFaced'\n",
    "]\n",
    "\n",
    "tenis_df = calculate_rolling_averages(tenis_df, columns_for_rolling_averages_winner, 'winner')\n",
    "tenis_df.drop(columns=columns_for_rolling_averages_winner, inplace=True)\n",
    "\n",
    "tenis_df = calculate_rolling_averages(tenis_df, columns_for_rolling_averages_loser, 'loser')\n",
    "tenis_df.drop(columns=columns_for_rolling_averages_loser, inplace=True)\n",
    "\n",
    "tenis_df.head(5)\n"
   ],
   "id": "baad47783cf3f81d"
  },
  {
   "metadata": {},
   "cell_type": "code",
   "outputs": [],
   "execution_count": null,
   "source": "print(tenis_df.columns)",
   "id": "2d39a7c5e4ff43f1"
  },
  {
   "metadata": {},
   "cell_type": "code",
   "outputs": [],
   "execution_count": null,
   "source": [
    "# Zmiana nazw kolumn winner -> player_1 i loser -> player_0\n",
    "tenis_df.columns = tenis_df.columns.str.replace('winner', 'player1')\n",
    "tenis_df.columns = tenis_df.columns.str.replace('loser', 'player0')\n",
    "\n",
    "# Sprawdzenie zmian\n",
    "print(tenis_df.columns)\n",
    "\n",
    "# Dodaj kolumnę label (player_1 zawsze wygrywa)\n",
    "tenis_df['label'] = 1\n",
    "tenis_df.head(5)\n"
   ],
   "id": "58d2dc7435f476d8"
  },
  {
   "metadata": {},
   "cell_type": "code",
   "outputs": [],
   "execution_count": null,
   "source": "print(tenis_df.dtypes)",
   "id": "f60d7c3fc68741e2"
  },
  {
   "metadata": {},
   "cell_type": "code",
   "outputs": [],
   "execution_count": null,
   "source": [
    "# One-hot encoding dla wybranych kolumn\n",
    "columns_to_encode = ['surface', 'tourney_level', 'round', 'player0_entry', 'player0_hand', 'player1_entry', 'player1_hand']\n",
    "tenis_df = pd.get_dummies(tenis_df, columns=columns_to_encode, drop_first=True)\n",
    "tenis_df.head(5)\n"
   ],
   "id": "7625592efe50a2f6"
  },
  {
   "metadata": {},
   "cell_type": "code",
   "outputs": [],
   "execution_count": null,
   "source": [
    "# Wyprintuj wiersze oraz kolumny, w których są NaN\n",
    "null_columns = tenis_df.columns[tenis_df.isnull().any()]\n",
    "print(f\"Kolumny z brakującymi wartościami: {list(null_columns)}\")\n",
    "print(\"Wiersze z brakującymi wartościami:\")\n",
    "print(tenis_df[tenis_df.isnull().any(axis=1)])"
   ],
   "id": "431c2915535f1303"
  },
  {
   "metadata": {},
   "cell_type": "code",
   "outputs": [],
   "execution_count": null,
   "source": [
    "# Uzupelniamy nulle odpowiednimi wartosciami\n",
    "# Kolumny związane z wzrostem i wiekiem zawodników uzupelniamy srednia badz mediana\n",
    "tenis_df['player1_ht'] = tenis_df['player1_ht'].fillna(tenis_df['player1_ht'].mean())\n",
    "tenis_df['player0_ht'] = tenis_df['player0_ht'].fillna(tenis_df['player0_ht'].mean())\n",
    "tenis_df['player1_age'] = tenis_df['player1_age'].fillna(tenis_df['player1_age'].median())\n",
    "tenis_df['player0_age'] = tenis_df['player0_age'].fillna(tenis_df['player0_age'].median())\n",
    "\n",
    "# Uzywamy mediany dla czasu trwania meczu\n",
    "tenis_df['minutes'] = tenis_df['minutes'].fillna(tenis_df['minutes'].median())\n",
    "\n",
    "# Dla rankingu i punktow rankingowych zakladamy ze zawodnik nie lapie sie do rangkingu ATP ktory w datasecie konczy sie na okolo 1350 i 1 punkcie atp, raning ustawiamy na 1500 a punkty na 0\n",
    "tenis_df['player1_rank'] = tenis_df['player1_rank'].fillna(1500)  # Ranking gracza 1 na 1500\n",
    "tenis_df['player0_rank'] = tenis_df['player0_rank'].fillna(1500)  # Ranking gracza 0 na 1500\n",
    "tenis_df['player1_rank_points'] = tenis_df['player1_rank_points'].fillna(0)  # Punkty rankingowe gracza 1 na 0\n",
    "tenis_df['player0_rank_points'] = tenis_df['player0_rank_points'].fillna(0)  # Punkty rankingowe gracza 0 na 0\n",
    "\n",
    "# Dla kolumn rollingowych korzystamy z mediany\n",
    "rolling_features = [\n",
    "    'player1_rolling_ace', 'player1_rolling_df', 'player1_rolling_svpt',\n",
    "    'player1_rolling_1stIn', 'player1_rolling_1stWon', 'player1_rolling_2ndWon',\n",
    "    'player1_rolling_SvGms', 'player1_rolling_bpSaved', 'player1_rolling_bpFaced',\n",
    "    'player0_rolling_ace', 'player0_rolling_df', 'player0_rolling_svpt',\n",
    "    'player0_rolling_1stIn', 'player0_rolling_1stWon', 'player0_rolling_2ndWon',\n",
    "    'player0_rolling_SvGms', 'player0_rolling_bpSaved', 'player0_rolling_bpFaced'\n",
    "]\n",
    "\n",
    "# Uzupełnienie brakujących danych wartościami mediany\n",
    "for col in rolling_features:\n",
    "    tenis_df[col] = tenis_df[col].fillna(tenis_df[col].median())\n",
    "\n",
    "# Sprawdzenie, czy wszystkie brakujące wartości zostały wyeliminowane\n",
    "print(\"Czy nadal istnieją brakujące wartości w danych?\", tenis_df.isnull().sum().sum() > 0)"
   ],
   "id": "149ac50916c08625"
  },
  {
   "metadata": {},
   "cell_type": "code",
   "outputs": [],
   "execution_count": null,
   "source": "tenis_df.to_csv('dane/gotowe_dane.csv', sep=';', index=False)",
   "id": "a8799a8c5c12f55a"
  },
  {
   "metadata": {},
   "cell_type": "code",
   "outputs": [],
   "execution_count": null,
   "source": "",
   "id": "527b38fd4f67e2a1"
  }
 ],
 "metadata": {
  "kernelspec": {
   "display_name": "Python 3 (ipykernel)",
   "language": "python",
   "name": "python3"
  },
  "language_info": {
   "codemirror_mode": {
    "name": "ipython",
    "version": 3
   },
   "file_extension": ".py",
   "mimetype": "text/x-python",
   "name": "python",
   "nbconvert_exporter": "python",
   "pygments_lexer": "ipython3",
   "version": "3.12.0"
  }
 },
 "nbformat": 4,
 "nbformat_minor": 5
}
