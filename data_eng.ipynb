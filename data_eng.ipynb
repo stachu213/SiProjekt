{
 "cells": [
  {
   "metadata": {},
   "cell_type": "code",
   "outputs": [],
   "execution_count": null,
   "source": "import pandas as pd",
   "id": "fe2dc63abcc89189"
  },
  {
   "metadata": {},
   "cell_type": "code",
   "outputs": [],
   "execution_count": null,
   "source": "tenis_df = pd.read_csv(\"dane/Dane_ATP_2000-2024 d.csv\", sep=';')",
   "id": "9f06306b5840086a"
  },
  {
   "metadata": {},
   "cell_type": "code",
   "outputs": [],
   "execution_count": null,
   "source": "print(tenis_df.columns)",
   "id": "48e3f93708d097e4"
  },
  {
   "metadata": {},
   "cell_type": "code",
   "outputs": [],
   "execution_count": null,
   "source": "print(tenis_df.shape[0], 'liczba rowow, powinno byc 73247')",
   "id": "a5f8b64bb4e2fd63"
  },
  {
   "metadata": {},
   "cell_type": "code",
   "outputs": [],
   "execution_count": null,
   "source": "tenis_df.head(5)",
   "id": "7d1ba7a0edd220c"
  },
  {
   "metadata": {},
   "cell_type": "code",
   "outputs": [],
   "execution_count": null,
   "source": [
    "#wizualizacja rozkładu powierzchni, na których grają zawodnicy\n",
    "tenis_df = tenis_df.dropna(subset=['surface'])\n",
    "surface = tenis_df['surface'].value_counts()\n",
    "surface.plot(kind='pie', autopct='%1.1f%%', startangle=90)"
   ],
   "id": "5b532a387f32166e"
  },
  {
   "metadata": {},
   "cell_type": "code",
   "outputs": [],
   "execution_count": null,
   "source": [
    "#zamiana kolumn ze statystykami meczowymi na ich rolling values\n",
    "#lista kolumn do przetworzenia: \n",
    "stats = ['ace', 'df', 'svpt', '1stIn', '1stWon', '2ndWon', 'SvGms', 'bpSaved', 'bpFaced']\n",
    "columns_for_rolling = [f'w_{col}' for col in stats] + [f'l_{col}' for col in stats]\n",
    "\n",
    "#dane z zawodnikami w jednej kolumnie\n",
    "tenis_df['match_id'] = tenis_df.index\n",
    "\n",
    "#przygotowanie danych dla wygranych i przegranych\n",
    "winners = tenis_df[['match_id', 'tourney_date', 'winner_id'] + [f'w_{col}' for col in stats]].copy()\n",
    "losers = tenis_df[['match_id', 'tourney_date', 'loser_id'] + [f'l_{col}' for col in stats]].copy()\n",
    "\n",
    "#ujednolicenie nazw kolumn\n",
    "winners.columns = ['match_id', 'tourney_date', 'player_id'] + stats\n",
    "losers.columns = ['match_id', 'tourney_date', 'player_id'] + stats\n",
    "\n",
    "#złączenie tabel winers i losers oraz posortowanie ich \n",
    "all_matches = pd.concat([winners, losers], ignore_index=True)\n",
    "all_matches['tourney_date'] = pd.to_datetime(all_matches['tourney_date'], format='%Y%m%d')\n",
    "all_matches = all_matches.sort_values(['player_id', 'tourney_date'])\n",
    "\n",
    "#obliczenie średniej ruchomej dla każdego z zawodników\n",
    "for col in stats:\n",
    "    all_matches[f'rolling_{col}'] = all_matches.groupby('player_id')[col].transform(\n",
    "        lambda x: x.rolling(window=10, min_periods=1).mean().shift(1)\n",
    "    )\n",
    "\n",
    "#mapowanie z powrotem do wygranych/przegranych\n",
    "#scalanie tylko wyników, gdzie zawodnik był zwycięzcą:\n",
    "winners_merged = tenis_df[['match_id', 'winner_id']].merge(\n",
    "    all_matches,\n",
    "    left_on=['match_id', 'winner_id'],\n",
    "    right_on=['match_id', 'player_id'],\n",
    "    how='left',\n",
    "    suffixes=('', '_winner')\n",
    ")[['match_id'] + [f'rolling_{col}' for col in stats]]\n",
    "\n",
    "#scalanie tylko wyników, gdzie zawodnik był przegranym:\n",
    "losers_merged = tenis_df[['match_id', 'loser_id']].merge(\n",
    "    all_matches,\n",
    "    left_on=['match_id', 'loser_id'],\n",
    "    right_on=['match_id', 'player_id'],\n",
    "    how='left',\n",
    "    suffixes=('', '_loser')\n",
    ")[['match_id'] + [f'rolling_{col}' for col in stats]]\n",
    "\n",
    "#nadanie przejrzystości nazwom kolumn\n",
    "winners_merged.columns = ['match_id'] + [f'winner_rolling_{col}' for col in stats]\n",
    "losers_merged.columns = ['match_id'] + [f'loser_rolling_{col}' for col in stats]\n",
    "\n",
    "#zmergowanie tabel z pierwotną ramką\n",
    "tenis_df = tenis_df.merge(winners_merged, on='match_id', how='left')\n",
    "tenis_df = tenis_df.merge(losers_merged, on='match_id', how='left')\n",
    "\n",
    "#usuwanie zbędnych kolumn\n",
    "tenis_df.drop(columns=['match_id'] + columns_for_rolling, inplace=True)\n",
    "\n",
    "#zapisanie wyniku\n",
    "tenis_df.to_csv('dane/rolling_corrected.csv', sep=';', index=False)"
   ],
   "id": "8527d216762dd25c"
  },
  {
   "metadata": {},
   "cell_type": "code",
   "outputs": [],
   "execution_count": null,
   "source": "print(tenis_df.shape[0], 'liczba rowow, powinno byc 73247')\n",
   "id": "367e237755a429dd"
  },
  {
   "metadata": {},
   "cell_type": "code",
   "outputs": [],
   "execution_count": null,
   "source": "print(tenis_df.shape[0], 'liczba rowow, powinno byc 73247')",
   "id": "fab67608af233569"
  },
  {
   "metadata": {},
   "cell_type": "code",
   "outputs": [],
   "execution_count": null,
   "source": [
    "#usunięcie kolumn, które uznaliśmy za nieistotne\n",
    "columns_to_drop = [\n",
    "    'tourney_id', 'tourney_name', 'draw_size', 'match_num', 'winner_seed',\n",
    "    'winner_name', 'loser_seed', 'winner_ioc', 'loser_name', 'loser_seed',\n",
    "    'loser_ioc', 'score', 'tourney_date', 'winner_hand', 'loser_hand'\n",
    "]\n",
    "\n",
    "tenis_df = tenis_df.drop(columns=columns_to_drop)\n",
    "tenis_df.head(5)"
   ],
   "id": "f3f40b9afb9364d2"
  },
  {
   "metadata": {},
   "cell_type": "code",
   "outputs": [],
   "execution_count": null,
   "source": "print(tenis_df.columns)",
   "id": "c5b54ffd47c92c0f"
  },
  {
   "metadata": {},
   "cell_type": "code",
   "outputs": [],
   "execution_count": null,
   "source": [
    "#zamiana nazw kolumn: winner -> player_1 ; loser -> player_0\n",
    "tenis_df.columns = tenis_df.columns.str.replace('winner', 'player1')\n",
    "tenis_df.columns = tenis_df.columns.str.replace('loser', 'player0')\n",
    "\n",
    "#sprawdzenie zmian\n",
    "print(tenis_df.columns)\n",
    "\n",
    "#dodanie kolumny label (player_1 zawsze wygrywa)\n",
    "tenis_df['label'] = 1\n",
    "tenis_df.head(5)\n"
   ],
   "id": "43fd89179b408758"
  },
  {
   "metadata": {},
   "cell_type": "code",
   "outputs": [],
   "execution_count": null,
   "source": "print(tenis_df.shape[0], 'liczba rowow, powinno byc 73247')",
   "id": "679d75f87717ad61"
  },
  {
   "metadata": {},
   "cell_type": "code",
   "outputs": [],
   "execution_count": null,
   "source": "print(tenis_df.dtypes)",
   "id": "d78e9d6789cec988"
  },
  {
   "metadata": {},
   "cell_type": "code",
   "outputs": [],
   "execution_count": null,
   "source": [
    "#one-hot encoding dla wybranych kolumn\n",
    "columns_to_encode = ['surface', 'player0_entry', 'player1_entry']\n",
    "tenis_df = pd.get_dummies(tenis_df, columns=columns_to_encode, drop_first=True)\n",
    "tenis_df.head(5)\n"
   ],
   "id": "d69284a91f01cae5"
  },
  {
   "metadata": {},
   "cell_type": "code",
   "outputs": [],
   "execution_count": null,
   "source": [
    "#sprawdzenie, jakie wartości są w kolumnie tourney_level\n",
    "print(tenis_df['tourney_level'].unique())"
   ],
   "id": "167438d2e0b9dd68"
  },
  {
   "metadata": {},
   "cell_type": "code",
   "outputs": [],
   "execution_count": null,
   "source": [
    "#label encoding dla kolumny tourney_level\n",
    "tourney_level_mapping = {\n",
    "    'G': 6,  # Grand Slams\n",
    "    'M': 5,  # Masters 1000s\n",
    "    'F': 4,  # Tour finals and season-ending events\n",
    "    'D': 3,  # Davis Cup\n",
    "    'A': 2,  # Other tour-level events\n",
    "    'C': 1,  # Challengers\n",
    "    'S': 0   # Satellites/ITFs\n",
    "}\n",
    "tenis_df['tourney_level'] = tenis_df['tourney_level'].map(tourney_level_mapping)"
   ],
   "id": "add7a8528a15c3af"
  },
  {
   "metadata": {},
   "cell_type": "code",
   "outputs": [],
   "execution_count": null,
   "source": [
    "#sprawdzenie, jakie wartości są w kolumnie round\n",
    "print(tenis_df['round'].unique())"
   ],
   "id": "d6e57c956b88afe"
  },
  {
   "metadata": {},
   "cell_type": "code",
   "outputs": [],
   "execution_count": null,
   "source": [
    "#sprawdzenie kilku losowych wierszy, w których kolumna round = ER, żeby zrozumieć jej znaczenie\n",
    "er_rows = tenis_df[tenis_df['round'] == 'ER']\n",
    "er_rows.tail(5)\n",
    "#ER oznacza, że mecze są rozgrywane w Buenos Aires, gdzie stosuje się rundę eliminacyjną"
   ],
   "id": "72e923495165e679"
  },
  {
   "metadata": {},
   "cell_type": "code",
   "outputs": [],
   "execution_count": null,
   "source": [
    "#sprawdzenie kilku losowych wierszy, w których kolumna round = RR, żeby zrozumieć jej znaczenie\n",
    "rr_rows = tenis_df[tenis_df['round'] == 'RR']\n",
    "rr_rows.tail(5)\n",
    "#RR oznacza, że mecze są z \"Davis Cup\", co oznacza faze grupową (robin round)"
   ],
   "id": "b0d1ad6c259f4e12"
  },
  {
   "metadata": {},
   "cell_type": "code",
   "outputs": [],
   "execution_count": null,
   "source": [
    "#sprawdzenie kilku losowych wierszy, w których kolumna round = BR, żeby zrozumieć jej znaczenie\n",
    "br_rows = tenis_df[tenis_df['round'] == 'BR']\n",
    "br_rows.tail(5)\n",
    "#BR oznacza, że mecz jest z Igrzysk Olimpijskich, czyli chodzi o mecz o brązowy medal"
   ],
   "id": "179bb60589034ed"
  },
  {
   "metadata": {},
   "cell_type": "code",
   "outputs": [],
   "execution_count": null,
   "source": [
    "#label encoding dla kolumny round i tourney_level (BR bronze round, RR faza grupowa, ER elimination round)\n",
    "round_mapping = {\n",
    "    'ER': 1, 'RR': 2, 'R128': 3, 'R64': 4, 'R32': 5, 'R16': 6, 'QF': 7, 'SF': 8, 'BR': 9, 'F': 10\n",
    "}\n",
    "tenis_df['round'] = tenis_df['round'].map(round_mapping)"
   ],
   "id": "cfb3c34091a9fc20"
  },
  {
   "metadata": {},
   "cell_type": "code",
   "outputs": [],
   "execution_count": null,
   "source": "print(tenis_df.shape[0], 'liczba rowow, powinno byc 73247')",
   "id": "d2e208bb3a7cbc79"
  },
  {
   "metadata": {},
   "cell_type": "code",
   "outputs": [],
   "execution_count": null,
   "source": [
    "#printowanie wierszy oraz kolumn, w których występują wartości NaN\n",
    "null_columns = tenis_df.columns[tenis_df.isnull().any()]\n",
    "print(f\"Kolumny z brakującymi wartościami: {list(null_columns)}\")\n",
    "print(\"Liczba wierszy z brakującymi wartościami: \", tenis_df.isnull().sum().sum())"
   ],
   "id": "a0a01c9e345e86ec"
  },
  {
   "metadata": {},
   "cell_type": "code",
   "outputs": [],
   "execution_count": null,
   "source": [
    "#funkcja do uzupełniania brakujących wartości w grupach, a następnie globalnie\n",
    "def fillna_grouped_then_global(df, group_col, target_col, method='mean'):\n",
    "    # Uzupełnij brakujące wartości średnią/medianą w ramach grup\n",
    "    if method == 'mean':\n",
    "        df[target_col] = df.groupby(group_col)[target_col].transform(lambda x: x.fillna(x.mean()))\n",
    "    elif method == 'median':\n",
    "        df[target_col] = df.groupby(group_col)[target_col].transform(lambda x: x.fillna(x.median()))\n",
    "\n",
    "    #uzupełnianie pozostałych brakujących wartości globalną średnią/medianą\n",
    "    if method == 'mean':\n",
    "        df[target_col] = df[target_col].fillna(df[target_col].mean())\n",
    "    elif method == 'median':\n",
    "        df[target_col] = df[target_col].fillna(df[target_col].median())\n",
    "\n",
    "    return df\n",
    "\n",
    "#uzupełnienie wzrostu i wieku średnią/medianą w ramach grup, a następnie globalnie\n",
    "tenis_df = fillna_grouped_then_global(tenis_df, 'player1_age', 'player1_ht', method='mean')\n",
    "tenis_df = fillna_grouped_then_global(tenis_df, 'player0_age', 'player0_ht', method='mean')\n",
    "tenis_df['player1_age'] = tenis_df['player1_age'].fillna(tenis_df['player1_age'].median())\n",
    "tenis_df['player0_age'] = tenis_df['player0_age'].fillna(tenis_df['player0_age'].median())\n",
    "\n",
    "#uzupełnienie czasu trwania meczu medianą\n",
    "tenis_df['minutes'] = tenis_df['minutes'].fillna(tenis_df['minutes'].median())\n",
    "\n",
    "#uzupełnienie rankingu i punktów rankingowych\n",
    "tenis_df['player1_rank'] = tenis_df['player1_rank'].fillna(2000)  # Poza rankingiem ATP\n",
    "tenis_df['player0_rank'] = tenis_df['player0_rank'].fillna(2000)  # Poza rankingiem ATP\n",
    "tenis_df['player1_rank_points'] = tenis_df['player1_rank_points'].fillna(0)  # Brak punktów\n",
    "tenis_df['player0_rank_points'] = tenis_df['player0_rank_points'].fillna(0)  # Brak punktów\n",
    "\n",
    "#dodanie flag dla brakujących wartości\n",
    "tenis_df['player1_ht_missing'] = tenis_df['player1_ht'].isnull().astype(int)\n",
    "tenis_df['player0_ht_missing'] = tenis_df['player0_ht'].isnull().astype(int)\n",
    "\n",
    "player1_rolling_features = [player1_col for player1_col in tenis_df.columns if player1_col.startswith('player1_rolling_')]\n",
    "player0_rolling_features = [player0_col for player0_col in tenis_df.columns if player0_col.startswith('player0_rolling_')]\n",
    "rolling_features = player1_rolling_features + player0_rolling_features\n",
    "\n",
    "#uzupełnienie statystyk rollingowych wartością domyślną (0)\n",
    "for col in rolling_features:\n",
    "    tenis_df[col] = tenis_df[col].fillna(0)\n",
    "\n",
    "#sprawdzenie, czy wszystkie brakujące wartości zostały wyeliminowane\n",
    "print(\"Czy nadal istnieją brakujące wartości w danych?\", tenis_df.isnull().sum().sum() > 0)\n",
    "\n",
    "#pozostale kolumny z brakującymi wartościami\n",
    "null_columns = tenis_df.columns[tenis_df.isnull().any()]\n",
    "print(f\"Kolumny z brakującymi wartościami: {list(null_columns)}\")"
   ],
   "id": "7aa9631be6667c95"
  },
  {
   "metadata": {},
   "cell_type": "code",
   "outputs": [],
   "execution_count": null,
   "source": [
    "#sprawdzenie ilości wierszy (powinno byc 73247)\n",
    "print(tenis_df.shape[0])\n",
    "#sprawdzenie ile razy id (103819) Rogera Federera wystepuje jako wygrany (powinno byc 1250)\n",
    "print(tenis_df[tenis_df['player1_id'] == 103819].shape[0])"
   ],
   "id": "ecc6926917ee101"
  },
  {
   "metadata": {},
   "cell_type": "code",
   "outputs": [],
   "execution_count": null,
   "source": [
    "#nie możemy w kolumnie Y mieć tylko jednej wartości, dlatego dla połowy przypadków zamieniamy zawodnika 1. z zawodnikiem 2. i label z 1 na 0\n",
    "def swap_players_every_other_row(df):\n",
    "    #dodanie kolumny player1_entry_S, jeśli jej nie ma\n",
    "    if 'player1_entry_S' not in df.columns:\n",
    "        df['player1_entry_S'] = 0\n",
    "\n",
    "    #filtrowanie kolumn dla player1 i player0\n",
    "    player1_cols = [column for column in df.columns if column.startswith('player1')]\n",
    "    player0_cols = [column for column in df.columns if column.startswith('player0')]\n",
    "\n",
    "    #upewnienie się, że kolumny player1 i player0 mają taką samą strukturę\n",
    "    assert len(player1_cols) == len(player0_cols), \"kolumny player1 i player0 muszą być zgodne.\"\n",
    "\n",
    "    #wybranie indeksów parzystych\n",
    "    swap_indices = df.index[::2]\n",
    "\n",
    "    #zamiana danych player1 <-> player0 w wybranych wierszach\n",
    "    #upewnienie się, że typy danych są zgodne\n",
    "    for col1, col0 in zip(player1_cols, player0_cols):\n",
    "        df[col1] = df[col1].astype(df[col0].dtype)\n",
    "        df[col0] = df[col0].astype(df[col1].dtype)\n",
    "\n",
    "    df.loc[swap_indices, player1_cols + player0_cols] = df.loc[swap_indices, player0_cols + player1_cols].values\n",
    "\n",
    "    #ustawienie wartości label na 0 w podmienionych wierszach\n",
    "    if 'label' in df.columns:\n",
    "        df.loc[swap_indices, 'label'] = 0\n",
    "\n",
    "    return df\n",
    "\n",
    "swapped_players_df = swap_players_every_other_row(tenis_df)\n",
    "print(swapped_players_df.shape[0], 'liczba rowow, powinno byc 73247')\n",
    "swapped_players_df.head(5)"
   ],
   "id": "f77ed44368d12f39"
  },
  {
   "metadata": {},
   "cell_type": "code",
   "outputs": [],
   "execution_count": null,
   "source": [
    "#liczymy ile wystąpiło upsetów (różnica między rankingami - 10)\n",
    "#\"upset\" - sytuacja, w której zawodnik z gorszym rankingiem wygrał mecz\n",
    "\n",
    "#ustawienie progu różnicy rankingowej, czyli sytuacji, w której różnica rankingów jest na tyle duża, że można mówić o upsetach\n",
    "ranking_threshold = 10\n",
    "\n",
    "#sprawdzenie, czy wystąpił upset z uwzględnieniem progu różnicy rankingowej\n",
    "tenis_df['is_upset'] = (\n",
    "    ((tenis_df['label'] == 1) & (tenis_df['player1_rank'] - tenis_df['player0_rank'] > ranking_threshold)) |  # Player1 wygrał, ale miał znacznie gorszy ranking\n",
    "    ((tenis_df['label'] == 0) & (tenis_df['player0_rank'] - tenis_df['player1_rank'] > ranking_threshold))    # Player0 wygrał, ale miał znacznie gorszy ranking\n",
    ")\n",
    "\n",
    "#liczba upsetów\n",
    "num_upsets = tenis_df['is_upset'].sum()\n",
    "\n",
    "#obliczenie procent upsetów\n",
    "percent_upsets = (num_upsets / len(tenis_df)) * 100\n",
    "\n",
    "print(f\"Procent upsetów (z progiem różnicy rankingowej {ranking_threshold}): {percent_upsets:.2f}%\")"
   ],
   "id": "cb9c620dfc8a30b7"
  },
  {
   "metadata": {},
   "cell_type": "code",
   "outputs": [],
   "execution_count": null,
   "source": [
    "#liczymy ile wystąpiło upsetów (różnica między rankingami - 100)\n",
    "\n",
    "#ustawienie progu różnicy rankingowej, czyli sytuacji, w której różnica rankingów jest na tyle duża, że można mówić o upsetach\n",
    "ranking_threshold = 100\n",
    "\n",
    "#sprawdzenie, czy wystąpił upset z uwzględnieniem progu różnicy rankingowej\n",
    "tenis_df['is_upset'] = (\n",
    "    ((tenis_df['label'] == 1) & (tenis_df['player1_rank'] - tenis_df['player0_rank'] > ranking_threshold)) |  # Player1 wygrał, ale miał znacznie gorszy ranking\n",
    "    ((tenis_df['label'] == 0) & (tenis_df['player0_rank'] - tenis_df['player1_rank'] > ranking_threshold))    # Player0 wygrał, ale miał znacznie gorszy ranking\n",
    ")\n",
    "\n",
    "#liczba upsetów\n",
    "num_upsets = tenis_df['is_upset'].sum()\n",
    "\n",
    "#obliczenie procent upsetów\n",
    "percent_upsets = (num_upsets / len(tenis_df)) * 100\n",
    "\n",
    "print(f\"Procent upsetów (z progiem różnicy rankingowej {ranking_threshold}): {percent_upsets:.2f}%\")"
   ],
   "id": "e94e59f622c002a3"
  },
  {
   "metadata": {},
   "cell_type": "code",
   "outputs": [],
   "execution_count": null,
   "source": [
    "#usunięcie kolumny is_upset\n",
    "tenis_df = tenis_df.drop(columns=['is_upset'])"
   ],
   "id": "5ebfaaf88ed24819"
  },
  {
   "metadata": {},
   "cell_type": "code",
   "outputs": [],
   "execution_count": null,
   "source": "print(tenis_df.shape[0], 'liczba rowow, powinno byc 73247')",
   "id": "e62e7fafde20c138"
  },
  {
   "metadata": {},
   "cell_type": "code",
   "outputs": [],
   "execution_count": null,
   "source": "swapped_players_df.to_csv('dane/gotowe_dane.csv', sep=';', index=False)",
   "id": "c42649f7a07f6b59"
  },
  {
   "metadata": {
    "ExecuteTime": {
     "end_time": "2025-01-23T14:19:32.754981Z",
     "start_time": "2025-01-23T14:19:32.750780Z"
    }
   },
   "cell_type": "code",
   "source": "",
   "id": "527b38fd4f67e2a1",
   "outputs": [],
   "execution_count": null
  }
 ],
 "metadata": {
  "kernelspec": {
   "display_name": "Python 3 (ipykernel)",
   "language": "python",
   "name": "python3"
  },
  "language_info": {
   "codemirror_mode": {
    "name": "ipython",
    "version": 3
   },
   "file_extension": ".py",
   "mimetype": "text/x-python",
   "name": "python",
   "nbconvert_exporter": "python",
   "pygments_lexer": "ipython3",
   "version": "3.12.0"
  }
 },
 "nbformat": 4,
 "nbformat_minor": 5
}
