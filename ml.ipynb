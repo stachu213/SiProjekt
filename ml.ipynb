{
 "cells": [
  {
   "metadata": {
    "ExecuteTime": {
     "end_time": "2025-01-23T00:17:58.597950Z",
     "start_time": "2025-01-23T00:17:58.593640Z"
    }
   },
   "cell_type": "code",
   "source": "import pandas as pd",
   "id": "d9c0409ae17bdb93",
   "outputs": [],
   "execution_count": 49
  },
  {
   "metadata": {
    "ExecuteTime": {
     "end_time": "2025-01-23T00:17:59.014051Z",
     "start_time": "2025-01-23T00:17:58.627311Z"
    }
   },
   "cell_type": "code",
   "source": "tenis_df = pd.read_csv(\"dane/gotowe_dane.csv\", sep=';')",
   "id": "e97e241dcb213dbe",
   "outputs": [],
   "execution_count": 50
  },
  {
   "metadata": {
    "ExecuteTime": {
     "end_time": "2025-01-23T00:17:59.036064Z",
     "start_time": "2025-01-23T00:17:59.017057Z"
    }
   },
   "cell_type": "code",
   "source": [
    "X = tenis_df.drop(columns=['label'])\n",
    "y = tenis_df['label']"
   ],
   "id": "fcfce9039db4f63d",
   "outputs": [],
   "execution_count": 51
  },
  {
   "metadata": {
    "ExecuteTime": {
     "end_time": "2025-01-23T00:17:59.087472Z",
     "start_time": "2025-01-23T00:17:59.062142Z"
    }
   },
   "cell_type": "code",
   "source": [
    "from sklearn.model_selection import train_test_split\n",
    "\n",
    "X_train, X_test, y_train, y_test = train_test_split(X, y, test_size=0.3, random_state=42)"
   ],
   "id": "d825c6548fee4e0d",
   "outputs": [],
   "execution_count": 52
  },
  {
   "metadata": {
    "ExecuteTime": {
     "end_time": "2025-01-23T00:18:02.093420Z",
     "start_time": "2025-01-23T00:17:59.112062Z"
    }
   },
   "cell_type": "code",
   "source": [
    "# Import potrzebnych bibliotek\n",
    "from sklearn.linear_model import LogisticRegression\n",
    "from sklearn.metrics import accuracy_score\n",
    "\n",
    "# Inicjalizacja modelu\n",
    "model = LogisticRegression(max_iter=1000)\n",
    "\n",
    "# Trenowanie modelu na zbiorze treningowym\n",
    "model.fit(X_train, y_train)\n",
    "\n",
    "# Predykcja na danych testowych\n",
    "y_pred = model.predict(X_test)\n",
    "\n",
    "# Ocena dokładności\n",
    "accuracy = accuracy_score(y_test, y_pred)\n",
    "print(f'Dokładność modelu: {accuracy:.2f}')\n"
   ],
   "id": "7c211e6631357898",
   "outputs": [
    {
     "name": "stdout",
     "output_type": "stream",
     "text": [
      "Dokładność modelu: 0.96\n"
     ]
    },
    {
     "name": "stderr",
     "output_type": "stream",
     "text": [
      "C:\\Users\\stani\\AppData\\Local\\Packages\\PythonSoftwareFoundation.Python.3.12_qbz5n2kfra8p0\\LocalCache\\local-packages\\Python312\\site-packages\\sklearn\\linear_model\\_logistic.py:465: ConvergenceWarning: lbfgs failed to converge (status=1):\n",
      "STOP: TOTAL NO. of ITERATIONS REACHED LIMIT.\n",
      "\n",
      "Increase the number of iterations (max_iter) or scale the data as shown in:\n",
      "    https://scikit-learn.org/stable/modules/preprocessing.html\n",
      "Please also refer to the documentation for alternative solver options:\n",
      "    https://scikit-learn.org/stable/modules/linear_model.html#logistic-regression\n",
      "  n_iter_i = _check_optimize_result(\n"
     ]
    }
   ],
   "execution_count": 53
  },
  {
   "metadata": {
    "ExecuteTime": {
     "end_time": "2025-01-23T00:18:02.164Z",
     "start_time": "2025-01-23T00:18:02.124120Z"
    }
   },
   "cell_type": "code",
   "source": [
    "# Predykcja na zbiorze treningowym\n",
    "y_train_pred = model.predict(X_train)\n",
    "train_accuracy = accuracy_score(y_train, y_train_pred)\n",
    "print(f'Dokładność na zbiorze treningowym: {train_accuracy:.2f}')\n",
    "print(f'Dokładność na zbiorze testowym: {accuracy:.2f}')"
   ],
   "id": "a63b70ad5e133d9c",
   "outputs": [
    {
     "name": "stdout",
     "output_type": "stream",
     "text": [
      "Dokładność na zbiorze treningowym: 0.96\n",
      "Dokładność na zbiorze testowym: 0.96\n"
     ]
    }
   ],
   "execution_count": 54
  },
  {
   "metadata": {
    "ExecuteTime": {
     "end_time": "2025-01-23T00:18:19.908363Z",
     "start_time": "2025-01-23T00:18:02.188093Z"
    }
   },
   "cell_type": "code",
   "source": [
    "from sklearn.model_selection import cross_val_score\n",
    "\n",
    "# Walidacja krzyżowa (np. 5-fold)\n",
    "cv_scores = cross_val_score(model, X, y, cv=5, scoring='accuracy')\n",
    "print(f'Dokładność walidacji krzyżowej: {cv_scores.mean():.2f} (± {cv_scores.std():.2f})')"
   ],
   "id": "be32ea8ab9274be8",
   "outputs": [
    {
     "name": "stderr",
     "output_type": "stream",
     "text": [
      "C:\\Users\\stani\\AppData\\Local\\Packages\\PythonSoftwareFoundation.Python.3.12_qbz5n2kfra8p0\\LocalCache\\local-packages\\Python312\\site-packages\\sklearn\\linear_model\\_logistic.py:465: ConvergenceWarning: lbfgs failed to converge (status=1):\n",
      "STOP: TOTAL NO. of ITERATIONS REACHED LIMIT.\n",
      "\n",
      "Increase the number of iterations (max_iter) or scale the data as shown in:\n",
      "    https://scikit-learn.org/stable/modules/preprocessing.html\n",
      "Please also refer to the documentation for alternative solver options:\n",
      "    https://scikit-learn.org/stable/modules/linear_model.html#logistic-regression\n",
      "  n_iter_i = _check_optimize_result(\n",
      "C:\\Users\\stani\\AppData\\Local\\Packages\\PythonSoftwareFoundation.Python.3.12_qbz5n2kfra8p0\\LocalCache\\local-packages\\Python312\\site-packages\\sklearn\\linear_model\\_logistic.py:465: ConvergenceWarning: lbfgs failed to converge (status=1):\n",
      "STOP: TOTAL NO. of ITERATIONS REACHED LIMIT.\n",
      "\n",
      "Increase the number of iterations (max_iter) or scale the data as shown in:\n",
      "    https://scikit-learn.org/stable/modules/preprocessing.html\n",
      "Please also refer to the documentation for alternative solver options:\n",
      "    https://scikit-learn.org/stable/modules/linear_model.html#logistic-regression\n",
      "  n_iter_i = _check_optimize_result(\n",
      "C:\\Users\\stani\\AppData\\Local\\Packages\\PythonSoftwareFoundation.Python.3.12_qbz5n2kfra8p0\\LocalCache\\local-packages\\Python312\\site-packages\\sklearn\\linear_model\\_logistic.py:465: ConvergenceWarning: lbfgs failed to converge (status=1):\n",
      "STOP: TOTAL NO. of ITERATIONS REACHED LIMIT.\n",
      "\n",
      "Increase the number of iterations (max_iter) or scale the data as shown in:\n",
      "    https://scikit-learn.org/stable/modules/preprocessing.html\n",
      "Please also refer to the documentation for alternative solver options:\n",
      "    https://scikit-learn.org/stable/modules/linear_model.html#logistic-regression\n",
      "  n_iter_i = _check_optimize_result(\n",
      "C:\\Users\\stani\\AppData\\Local\\Packages\\PythonSoftwareFoundation.Python.3.12_qbz5n2kfra8p0\\LocalCache\\local-packages\\Python312\\site-packages\\sklearn\\linear_model\\_logistic.py:465: ConvergenceWarning: lbfgs failed to converge (status=1):\n",
      "STOP: TOTAL NO. of ITERATIONS REACHED LIMIT.\n",
      "\n",
      "Increase the number of iterations (max_iter) or scale the data as shown in:\n",
      "    https://scikit-learn.org/stable/modules/preprocessing.html\n",
      "Please also refer to the documentation for alternative solver options:\n",
      "    https://scikit-learn.org/stable/modules/linear_model.html#logistic-regression\n",
      "  n_iter_i = _check_optimize_result(\n"
     ]
    },
    {
     "name": "stdout",
     "output_type": "stream",
     "text": [
      "Dokładność walidacji krzyżowej: 0.89 (± 0.12)\n"
     ]
    },
    {
     "name": "stderr",
     "output_type": "stream",
     "text": [
      "C:\\Users\\stani\\AppData\\Local\\Packages\\PythonSoftwareFoundation.Python.3.12_qbz5n2kfra8p0\\LocalCache\\local-packages\\Python312\\site-packages\\sklearn\\linear_model\\_logistic.py:465: ConvergenceWarning: lbfgs failed to converge (status=1):\n",
      "STOP: TOTAL NO. of ITERATIONS REACHED LIMIT.\n",
      "\n",
      "Increase the number of iterations (max_iter) or scale the data as shown in:\n",
      "    https://scikit-learn.org/stable/modules/preprocessing.html\n",
      "Please also refer to the documentation for alternative solver options:\n",
      "    https://scikit-learn.org/stable/modules/linear_model.html#logistic-regression\n",
      "  n_iter_i = _check_optimize_result(\n"
     ]
    }
   ],
   "execution_count": 55
  },
  {
   "metadata": {
    "ExecuteTime": {
     "end_time": "2025-01-23T00:18:19.962722Z",
     "start_time": "2025-01-23T00:18:19.942277Z"
    }
   },
   "cell_type": "code",
   "source": [
    "from sklearn.metrics import classification_report, confusion_matrix\n",
    "\n",
    "# Raport klasyfikacji\n",
    "print(classification_report(y_test, y_pred))\n",
    "\n",
    "# Macierz pomyłek\n",
    "print(\"Macierz pomyłek:\")\n",
    "print(confusion_matrix(y_test, y_pred))"
   ],
   "id": "d18bc2102549cc81",
   "outputs": [
    {
     "name": "stdout",
     "output_type": "stream",
     "text": [
      "              precision    recall  f1-score   support\n",
      "\n",
      "           0       0.96      0.96      0.96     11028\n",
      "           1       0.96      0.96      0.96     10931\n",
      "\n",
      "    accuracy                           0.96     21959\n",
      "   macro avg       0.96      0.96      0.96     21959\n",
      "weighted avg       0.96      0.96      0.96     21959\n",
      "\n",
      "Macierz pomyłek:\n",
      "[[10551   477]\n",
      " [  427 10504]]\n"
     ]
    }
   ],
   "execution_count": 56
  },
  {
   "metadata": {
    "ExecuteTime": {
     "end_time": "2025-01-23T00:18:20.083325Z",
     "start_time": "2025-01-23T00:18:19.986445Z"
    }
   },
   "cell_type": "code",
   "source": [
    "from sklearn.metrics import roc_curve, roc_auc_score\n",
    "import matplotlib.pyplot as plt\n",
    "\n",
    "# Predykcja prawdopodobieństw\n",
    "y_pred_proba = model.predict_proba(X_test)[:, 1]\n",
    "\n",
    "# Obliczenie krzywej ROC\n",
    "fpr, tpr, thresholds = roc_curve(y_test, y_pred_proba)\n",
    "\n",
    "# Wykres krzywej ROC\n",
    "plt.figure()\n",
    "plt.plot(fpr, tpr, label='Krzywa ROC')\n",
    "plt.plot([0, 1], [0, 1], 'k--', label='Random Guess')\n",
    "plt.xlabel('False Positive Rate')\n",
    "plt.ylabel('True Positive Rate')\n",
    "plt.title('Krzywa ROC')\n",
    "plt.legend()\n",
    "plt.show()\n",
    "\n",
    "# AUC-ROC\n",
    "auc = roc_auc_score(y_test, y_pred_proba)\n",
    "print(f'AUC-ROC: {auc:.2f}')"
   ],
   "id": "f8f73b2ac8f16d28",
   "outputs": [
    {
     "data": {
      "text/plain": [
       "<Figure size 640x480 with 1 Axes>"
      ],
      "image/png": "[encoded data removed]"
     },
     "metadata": {},
     "output_type": "display_data"
    },
    {
     "name": "stdout",
     "output_type": "stream",
     "text": [
      "AUC-ROC: 0.99\n"
     ]
    }
   ],
   "execution_count": 57
  },
  {
   "metadata": {
    "ExecuteTime": {
     "end_time": "2025-01-23T00:18:20.112849Z",
     "start_time": "2025-01-23T00:18:20.107972Z"
    }
   },
   "cell_type": "code",
   "source": "print(y.value_counts(), 'y._value_counts()')",
   "id": "1e1d1c7d463d3deb",
   "outputs": [
    {
     "name": "stdout",
     "output_type": "stream",
     "text": [
      "label\n",
      "0    36597\n",
      "1    36597\n",
      "Name: count, dtype: int64 y._value_counts()\n"
     ]
    }
   ],
   "execution_count": 58
  },
  {
   "metadata": {
    "ExecuteTime": {
     "end_time": "2025-01-23T00:21:07.297600Z",
     "start_time": "2025-01-23T00:20:58.952450Z"
    }
   },
   "cell_type": "code",
   "source": [
    "from sklearn.ensemble import RandomForestClassifier\n",
    "\n",
    "model_rf = RandomForestClassifier(random_state=42)\n",
    "model_rf.fit(X_train, y_train)\n",
    "y_pred_rf = model_rf.predict(X_test)\n",
    "print(f'Dokładność Random Forest: {accuracy_score(y_test, y_pred_rf):.2f}')\n",
    "# Pobierz ważność cech\n",
    "feature_importances = model_rf.feature_importances_\n",
    "\n",
    "# Stwórz DataFrame z ważnością cech\n",
    "importance_df = pd.DataFrame({\n",
    "    'Feature': X_train.columns,\n",
    "    'Importance': feature_importances\n",
    "})\n",
    "\n",
    "# Posortuj według ważności\n",
    "importance_df = importance_df.sort_values(by='Importance', ascending=False)\n",
    "\n",
    "# Wyświetl najważniejsze cechy\n",
    "print(importance_df.head(20))"
   ],
   "id": "a4e184db6dafbe8",
   "outputs": [
    {
     "name": "stdout",
     "output_type": "stream",
     "text": [
      "Dokładność Random Forest: 1.00\n",
      "                    Feature  Importance\n",
      "43           player0_hand_R    0.174212\n",
      "53           player1_hand_U    0.172185\n",
      "31  player0_rolling_bpFaced    0.170311\n",
      "22  player1_rolling_bpFaced    0.116399\n",
      "52           player1_hand_R    0.067595\n",
      "42           player0_hand_L    0.067354\n",
      "21  player1_rolling_bpSaved    0.059702\n",
      "30  player0_rolling_bpSaved    0.045288\n",
      "18   player1_rolling_1stWon    0.010427\n",
      "27   player0_rolling_1stWon    0.009470\n",
      "15       player1_rolling_df    0.008584\n",
      "24       player0_rolling_df    0.007727\n",
      "28   player0_rolling_2ndWon    0.007650\n",
      "25     player0_rolling_svpt    0.007534\n",
      "19   player1_rolling_2ndWon    0.007181\n",
      "16     player1_rolling_svpt    0.005015\n",
      "13      player0_rank_points    0.004760\n",
      "23      player0_rolling_ace    0.004610\n",
      "12             player0_rank    0.004346\n",
      "14      player1_rolling_ace    0.004337\n"
     ]
    }
   ],
   "execution_count": 62
  },
  {
   "metadata": {
    "ExecuteTime": {
     "end_time": "2025-01-23T00:18:29.601599Z",
     "start_time": "2025-01-23T00:18:29.306244Z"
    }
   },
   "cell_type": "code",
   "source": [
    "y_train_pred_rf = model_rf.predict(X_train)\n",
    "train_accuracy_rf = accuracy_score(y_train, y_train_pred_rf)\n",
    "print(f'Dokładność Random Forest na zbiorze treningowym: {train_accuracy_rf:.2f}')"
   ],
   "id": "2ca32f1b803e25c3",
   "outputs": [
    {
     "name": "stdout",
     "output_type": "stream",
     "text": [
      "Dokładność Random Forest na zbiorze treningowym: 1.00\n"
     ]
    }
   ],
   "execution_count": 60
  },
  {
   "metadata": {
    "ExecuteTime": {
     "end_time": "2025-01-23T00:19:21.642619Z",
     "start_time": "2025-01-23T00:18:29.630279Z"
    }
   },
   "cell_type": "code",
   "source": [
    "from sklearn.model_selection import cross_val_score\n",
    "\n",
    "cv_scores_rf = cross_val_score(model_rf, X, y, cv=5, scoring='accuracy')\n",
    "print(f'Dokładność walidacji krzyżowej (Random Forest): {cv_scores_rf.mean():.2f} (± {cv_scores_rf.std():.2f})')"
   ],
   "id": "b5f08a920bc70249",
   "outputs": [
    {
     "name": "stdout",
     "output_type": "stream",
     "text": [
      "Dokładność walidacji krzyżowej (Random Forest): 0.99 (± 0.01)\n"
     ]
    }
   ],
   "execution_count": 61
  },
  {
   "metadata": {
    "ExecuteTime": {
     "end_time": "2025-01-23T00:23:54.540785Z",
     "start_time": "2025-01-23T00:23:53.504117Z"
    }
   },
   "cell_type": "code",
   "source": [
    "from xgboost import XGBClassifier\n",
    "\n",
    "model_xgb = XGBClassifier(random_state=42)\n",
    "model_xgb.fit(X_train, y_train)\n",
    "\n",
    "y_pred_xgb = model_xgb.predict(X_test)\n",
    "print(f'Dokładność XGBoost: {accuracy_score(y_test, y_pred_xgb):.2f}')"
   ],
   "id": "3b61558149f7f91e",
   "outputs": [
    {
     "name": "stdout",
     "output_type": "stream",
     "text": [
      "Dokładność XGBoost: 1.00\n"
     ]
    }
   ],
   "execution_count": 63
  },
  {
   "metadata": {},
   "cell_type": "code",
   "outputs": [],
   "execution_count": null,
   "source": "",
   "id": "1db30c7975dcd04d"
  }
 ],
 "metadata": {
  "kernelspec": {
   "name": "python3",
   "language": "python",
   "display_name": "Python 3 (ipykernel)"
  }
 },
 "nbformat": 5,
 "nbformat_minor": 9
}
