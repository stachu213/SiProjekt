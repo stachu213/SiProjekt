{
 "cells": [
  {
   "metadata": {
    "ExecuteTime": {
     "end_time": "2025-01-23T14:22:50.673210Z",
     "start_time": "2025-01-23T14:22:50.667630Z"
    }
   },
   "cell_type": "code",
   "source": "import pandas as pd",
   "id": "d9c0409ae17bdb93",
   "outputs": [],
   "execution_count": 39
  },
  {
   "metadata": {
    "ExecuteTime": {
     "end_time": "2025-01-23T14:22:51.250808Z",
     "start_time": "2025-01-23T14:22:50.703219Z"
    }
   },
   "cell_type": "code",
   "source": "tenis_df = pd.read_csv(\"dane/gotowe_dane.csv\", sep=';')",
   "id": "e97e241dcb213dbe",
   "outputs": [],
   "execution_count": 40
  },
  {
   "metadata": {
    "ExecuteTime": {
     "end_time": "2025-01-23T14:22:51.316915Z",
     "start_time": "2025-01-23T14:22:51.311414Z"
    }
   },
   "cell_type": "code",
   "source": "print(tenis_df.shape[0])",
   "id": "7a6cb592d3650be9",
   "outputs": [
    {
     "name": "stdout",
     "output_type": "stream",
     "text": [
      "73247\n"
     ]
    }
   ],
   "execution_count": 41
  },
  {
   "metadata": {
    "ExecuteTime": {
     "end_time": "2025-01-23T14:22:51.439280Z",
     "start_time": "2025-01-23T14:22:51.421782Z"
    }
   },
   "cell_type": "code",
   "source": [
    "X = tenis_df.drop(columns=['label'])\n",
    "y = tenis_df['label']"
   ],
   "id": "fcfce9039db4f63d",
   "outputs": [],
   "execution_count": 42
  },
  {
   "metadata": {
    "ExecuteTime": {
     "end_time": "2025-01-23T14:22:51.591433Z",
     "start_time": "2025-01-23T14:22:51.542174Z"
    }
   },
   "cell_type": "code",
   "source": [
    "from sklearn.model_selection import train_test_split\n",
    "\n",
    "X_train, X_test, y_train, y_test = train_test_split(X, y, test_size=0.3, random_state=42)"
   ],
   "id": "d825c6548fee4e0d",
   "outputs": [],
   "execution_count": 43
  },
  {
   "metadata": {
    "ExecuteTime": {
     "end_time": "2025-01-23T14:22:52.209455Z",
     "start_time": "2025-01-23T14:22:51.600446Z"
    }
   },
   "cell_type": "code",
   "source": [
    "from sklearn.linear_model import LogisticRegression\n",
    "from sklearn.metrics import accuracy_score\n",
    "\n",
    "# Inicjalizacja modelu\n",
    "model_lr = LogisticRegression(max_iter=100)\n",
    "\n",
    "# Trenowanie modelu na zbiorze treningowym\n",
    "model_lr.fit(X_train, y_train)\n",
    "\n",
    "# Predykcja na danych testowych\n",
    "y_pred = model_lr.predict(X_test)\n",
    "\n",
    "# Ocena dokładności\n",
    "accuracy = accuracy_score(y_test, y_pred)\n",
    "print(f'Dokładność modelu: {accuracy:.2f}')\n"
   ],
   "id": "7c211e6631357898",
   "outputs": [
    {
     "name": "stdout",
     "output_type": "stream",
     "text": [
      "Dokładność modelu: 0.66\n"
     ]
    },
    {
     "name": "stderr",
     "output_type": "stream",
     "text": [
      "C:\\Users\\stani\\AppData\\Local\\Packages\\PythonSoftwareFoundation.Python.3.12_qbz5n2kfra8p0\\LocalCache\\local-packages\\Python312\\site-packages\\sklearn\\linear_model\\_logistic.py:465: ConvergenceWarning: lbfgs failed to converge (status=1):\n",
      "STOP: TOTAL NO. of ITERATIONS REACHED LIMIT.\n",
      "\n",
      "Increase the number of iterations (max_iter) or scale the data as shown in:\n",
      "    https://scikit-learn.org/stable/modules/preprocessing.html\n",
      "Please also refer to the documentation for alternative solver options:\n",
      "    https://scikit-learn.org/stable/modules/linear_model.html#logistic-regression\n",
      "  n_iter_i = _check_optimize_result(\n"
     ]
    }
   ],
   "execution_count": 44
  },
  {
   "metadata": {
    "ExecuteTime": {
     "end_time": "2025-01-23T14:22:53.049059Z",
     "start_time": "2025-01-23T14:22:52.284013Z"
    }
   },
   "cell_type": "code",
   "source": [
    "from xgboost import XGBClassifier\n",
    "\n",
    "model_xgb = XGBClassifier(random_state=42)\n",
    "model_xgb.fit(X_train, y_train)\n",
    "\n",
    "y_pred_xgb = model_xgb.predict(X_test)\n",
    "print(f'Dokładność XGBoost: {accuracy_score(y_test, y_pred_xgb):.2f}')"
   ],
   "id": "2f4c1f6be5dceab",
   "outputs": [
    {
     "name": "stdout",
     "output_type": "stream",
     "text": [
      "Dokładność XGBoost: 0.73\n"
     ]
    }
   ],
   "execution_count": 45
  },
  {
   "metadata": {
    "ExecuteTime": {
     "end_time": "2025-01-23T14:23:26.328470Z",
     "start_time": "2025-01-23T14:22:53.113999Z"
    }
   },
   "cell_type": "code",
   "source": [
    "from sklearn.ensemble import RandomForestClassifier\n",
    "\n",
    "model_rf = RandomForestClassifier(random_state=42)\n",
    "model_rf.fit(X_train, y_train)\n",
    "y_pred_rf = model_rf.predict(X_test)\n",
    "print(f'Dokładność Random Forest: {accuracy_score(y_test, y_pred_rf):.2f}')\n",
    "feature_importances = model_rf.feature_importances_\n",
    "\n",
    "importance_df = pd.DataFrame({\n",
    "    'Feature': X_train.columns,\n",
    "    'Importance': feature_importances\n",
    "})\n",
    "\n",
    "importance_df = importance_df.sort_values(by='Importance', ascending=False)\n",
    "\n",
    "print(importance_df.head(20))"
   ],
   "id": "d219a791afb067ff",
   "outputs": [
    {
     "name": "stdout",
     "output_type": "stream",
     "text": [
      "Dokładność Random Forest: 0.73\n",
      "                    Feature  Importance\n",
      "13      player0_rank_points    0.067248\n",
      "11      player1_rank_points    0.062483\n",
      "10             player1_rank    0.059921\n",
      "12             player0_rank    0.057085\n",
      "51                 is_upset    0.045732\n",
      "9                   minutes    0.027997\n",
      "6               player0_age    0.027130\n",
      "3               player1_age    0.026783\n",
      "31  player0_rolling_bpFaced    0.026573\n",
      "22  player1_rolling_bpFaced    0.026275\n",
      "4                player0_id    0.026058\n",
      "1                player1_id    0.025684\n",
      "23      player0_rolling_ace    0.024937\n",
      "14      player1_rolling_ace    0.024922\n",
      "28   player0_rolling_2ndWon    0.024345\n",
      "15       player1_rolling_df    0.024110\n",
      "27   player0_rolling_1stWon    0.024106\n",
      "24       player0_rolling_df    0.024087\n",
      "19   player1_rolling_2ndWon    0.024029\n",
      "18   player1_rolling_1stWon    0.023892\n"
     ]
    }
   ],
   "execution_count": 46
  },
  {
   "metadata": {
    "ExecuteTime": {
     "end_time": "2025-01-23T14:23:26.572649Z",
     "start_time": "2025-01-23T14:23:26.565321Z"
    }
   },
   "cell_type": "code",
   "source": [
    "model = model_rf\n",
    "accuracy = accuracy_score(y_test, y_pred_rf)"
   ],
   "id": "8818188bba0c7b3c",
   "outputs": [],
   "execution_count": 47
  },
  {
   "metadata": {
    "ExecuteTime": {
     "end_time": "2025-01-23T14:23:28.348019Z",
     "start_time": "2025-01-23T14:23:26.664477Z"
    }
   },
   "cell_type": "code",
   "source": [
    "# Predykcja na zbiorze treningowym\n",
    "y_train_pred = model.predict(X_train)\n",
    "train_accuracy = accuracy_score(y_train, y_train_pred)\n",
    "print(f'Dokładność na zbiorze treningowym: {train_accuracy:.2f}')\n",
    "print(f'Dokładność na zbiorze testowym: {accuracy:.2f}')"
   ],
   "id": "a63b70ad5e133d9c",
   "outputs": [
    {
     "name": "stdout",
     "output_type": "stream",
     "text": [
      "Dokładność na zbiorze treningowym: 1.00\n",
      "Dokładność na zbiorze testowym: 0.73\n"
     ]
    }
   ],
   "execution_count": 48
  },
  {
   "metadata": {
    "jupyter": {
     "is_executing": true
    },
    "ExecuteTime": {
     "start_time": "2025-01-23T14:23:28.397084Z"
    }
   },
   "cell_type": "code",
   "source": [
    "from sklearn.model_selection import cross_val_score\n",
    "\n",
    "# Walidacja krzyżowa (np. 5-fold)\n",
    "cv_scores = cross_val_score(model, X, y, cv=5, scoring='accuracy')\n",
    "print(f'Dokładność walidacji krzyżowej: {cv_scores.mean():.2f} (± {cv_scores.std():.2f})')"
   ],
   "id": "be32ea8ab9274be8",
   "outputs": [],
   "execution_count": null
  },
  {
   "metadata": {
    "ExecuteTime": {
     "end_time": "2025-01-23T14:22:49.606258200Z",
     "start_time": "2025-01-23T11:19:19.646615Z"
    }
   },
   "cell_type": "code",
   "source": [
    "from sklearn.metrics import classification_report, confusion_matrix\n",
    "\n",
    "# Raport klasyfikacji\n",
    "print(classification_report(y_test, y_pred))\n",
    "\n",
    "# Macierz pomyłek\n",
    "print(\"Macierz pomyłek:\")\n",
    "print(confusion_matrix(y_test, y_pred))"
   ],
   "id": "d18bc2102549cc81",
   "outputs": [
    {
     "name": "stdout",
     "output_type": "stream",
     "text": [
      "              precision    recall  f1-score   support\n",
      "\n",
      "           0       0.66      0.66      0.66     44008\n",
      "           1       0.66      0.66      0.66     43825\n",
      "\n",
      "    accuracy                           0.66     87833\n",
      "   macro avg       0.66      0.66      0.66     87833\n",
      "weighted avg       0.66      0.66      0.66     87833\n",
      "\n",
      "Macierz pomyłek:\n",
      "[[28988 15020]\n",
      " [14845 28980]]\n"
     ]
    }
   ],
   "execution_count": 8
  },
  {
   "metadata": {
    "ExecuteTime": {
     "end_time": "2025-01-23T14:22:49.651514800Z",
     "start_time": "2025-01-23T11:19:19.773835Z"
    }
   },
   "cell_type": "code",
   "source": [
    "from sklearn.metrics import roc_curve, roc_auc_score\n",
    "import matplotlib.pyplot as plt\n",
    "\n",
    "# Predykcja prawdopodobieństw\n",
    "y_pred_proba = model.predict_proba(X_test)[:, 1]\n",
    "\n",
    "# Obliczenie krzywej ROC\n",
    "fpr, tpr, thresholds = roc_curve(y_test, y_pred_proba)\n",
    "\n",
    "# Wykres krzywej ROC\n",
    "plt.figure()\n",
    "plt.plot(fpr, tpr, label='Krzywa ROC')\n",
    "plt.plot([0, 1], [0, 1], 'k--', label='Random Guess')\n",
    "plt.xlabel('False Positive Rate')\n",
    "plt.ylabel('True Positive Rate')\n",
    "plt.title('Krzywa ROC')\n",
    "plt.legend()\n",
    "plt.show()\n",
    "\n",
    "# AUC-ROC\n",
    "auc = roc_auc_score(y_test, y_pred_proba)\n",
    "print(f'AUC-ROC: {auc:.2f}')"
   ],
   "id": "f8f73b2ac8f16d28",
   "outputs": [
    {
     "data": {
      "text/plain": [
       "<Figure size 640x480 with 1 Axes>"
      ],
      "image/png": "[encoded data removed]"
     },
     "metadata": {},
     "output_type": "display_data"
    },
    {
     "name": "stdout",
     "output_type": "stream",
     "text": [
      "AUC-ROC: 0.72\n"
     ]
    }
   ],
   "execution_count": 9
  },
  {
   "metadata": {
    "ExecuteTime": {
     "end_time": "2025-01-23T14:22:49.653505700Z",
     "start_time": "2025-01-23T11:19:20.423843Z"
    }
   },
   "cell_type": "code",
   "source": "print(y.value_counts(), 'y._value_counts()')",
   "id": "1e1d1c7d463d3deb",
   "outputs": [
    {
     "name": "stdout",
     "output_type": "stream",
     "text": [
      "label\n",
      "0    146388\n",
      "1    146388\n",
      "Name: count, dtype: int64 y._value_counts()\n"
     ]
    }
   ],
   "execution_count": 10
  },
  {
   "metadata": {
    "ExecuteTime": {
     "end_time": "2025-01-23T14:22:49.663495Z",
     "start_time": "2025-01-23T11:20:33.471786Z"
    }
   },
   "cell_type": "code",
   "source": [
    "y_train_pred_rf = model.predict(X_train)\n",
    "train_accuracy_rf = accuracy_score(y_train, y_train_pred_rf)\n",
    "print(f'Dokładność Random Forest na zbiorze treningowym: {train_accuracy_rf:.2f}')"
   ],
   "id": "2ca32f1b803e25c3",
   "outputs": [
    {
     "name": "stdout",
     "output_type": "stream",
     "text": [
      "Dokładność Random Forest na zbiorze treningowym: 1.00\n"
     ]
    }
   ],
   "execution_count": 12
  },
  {
   "metadata": {
    "ExecuteTime": {
     "end_time": "2025-01-23T14:22:49.683403300Z",
     "start_time": "2025-01-23T11:20:37.734978Z"
    }
   },
   "cell_type": "code",
   "source": [
    "from sklearn.model_selection import cross_val_score\n",
    "\n",
    "cv_scores_rf = cross_val_score(model_rf, X, y, cv=5, scoring='accuracy')\n",
    "print(f'Dokładność walidacji krzyżowej (Random Forest): {cv_scores_rf.mean():.2f} (± {cv_scores_rf.std():.2f})')"
   ],
   "id": "b5f08a920bc70249",
   "outputs": [
    {
     "name": "stdout",
     "output_type": "stream",
     "text": [
      "Dokładność walidacji krzyżowej (Random Forest): 0.74 (± 0.02)\n"
     ]
    }
   ],
   "execution_count": 13
  },
  {
   "metadata": {
    "ExecuteTime": {
     "end_time": "2025-01-23T14:22:49.685395200Z",
     "start_time": "2025-01-23T11:31:33.424525Z"
    }
   },
   "cell_type": "code",
   "source": "",
   "id": "1db30c7975dcd04d",
   "outputs": [],
   "execution_count": null
  }
 ],
 "metadata": {
  "kernelspec": {
   "name": "python3",
   "language": "python",
   "display_name": "Python 3 (ipykernel)"
  }
 },
 "nbformat": 5,
 "nbformat_minor": 9
}
